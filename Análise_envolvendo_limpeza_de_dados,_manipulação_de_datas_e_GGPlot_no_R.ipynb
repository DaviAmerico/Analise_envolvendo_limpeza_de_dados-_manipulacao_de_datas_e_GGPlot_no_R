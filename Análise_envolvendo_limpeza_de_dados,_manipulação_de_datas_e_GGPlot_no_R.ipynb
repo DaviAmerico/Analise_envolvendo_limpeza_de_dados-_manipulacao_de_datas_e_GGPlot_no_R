{
  "nbformat": 4,
  "nbformat_minor": 0,
  "metadata": {
    "colab": {
      "name": "Análise envolvendo limpeza de dados, manipulação de datas e GGPlot no R.ipynb",
      "provenance": [],
      "collapsed_sections": [],
      "authorship_tag": "ABX9TyN06AWYDyinYJ33f8ALl1Yr",
      "include_colab_link": true
    },
    "kernelspec": {
      "name": "ir",
      "display_name": "R"
    },
    "language_info": {
      "name": "R"
    }
  },
  "cells": [
    {
      "cell_type": "markdown",
      "metadata": {
        "id": "view-in-github",
        "colab_type": "text"
      },
      "source": [
        "<a href=\"https://colab.research.google.com/github/DaviAmerico/Analise_envolvendo_limpeza_de_dados-_manipulacao_de_datas_e_GGPlot_no_R/blob/main/An%C3%A1lise_envolvendo_limpeza_de_dados%2C_manipula%C3%A7%C3%A3o_de_datas_e_GGPlot_no_R.ipynb\" target=\"_parent\"><img src=\"https://colab.research.google.com/assets/colab-badge.svg\" alt=\"Open In Colab\"/></a>"
      ]
    },
    {
      "cell_type": "markdown",
      "metadata": {
        "id": "sVK5wsIHpWOm"
      },
      "source": [
        "# Uma análise no R da minha bolsa de iniciação ciéntifica envolvendo limpeza de dados, manipulação de datas e elaboração de um gráfico no GGPlot\n"
      ]
    },
    {
      "cell_type": "markdown",
      "metadata": {
        "id": "6-kCvBH8pZMq"
      },
      "source": [
        "Antes de esclarercemos o que iremos fazer, segue o banco de dados a ser \n",
        "analisado e a declaração dos pacotes:"
      ]
    },
    {
      "cell_type": "code",
      "metadata": {
        "colab": {
          "base_uri": "https://localhost:8080/",
          "height": 711
        },
        "id": "fsCjyJxlpe-I",
        "outputId": "5b9d2a1c-550a-43c0-8da2-f8f37d162958"
      },
      "source": [
        "library(tidyverse)\n",
        "library(readxl)\n",
        "library(ggplot2)\n",
        "library(lubridate)\n",
        "library(dplyr)\n",
        "setwd(\"/content/sample_data\")\n",
        "data=data.frame(read_excel('Análise.xlsx',sheet='BERÇÁRIO'))\n",
        "head(data)"
      ],
      "execution_count": 18,
      "outputs": [
        {
          "output_type": "display_data",
          "data": {
            "text/plain": [
              "  Ninho Lugar Data.da.entrada.do.ninho Data.da.Saida.do.ninho\n",
              "1  77   1     29/05/2019               6691189               \n",
              "2  56   1     43530                    26/07/2019            \n",
              "3 147   1     14/07/2019               43807                 \n",
              "4 206   1     43503                    16/09/2019            \n",
              "5   5   1     43531                    16/08/2019            \n",
              "6  61   1     27/06/2019               25/09/2019            \n",
              "  Mãe.do.ninho..número Número.de..M.emergidos Número.de..F.emergidos\n",
              "1 1                    3                      1                     \n",
              "2 1                    NA                     NA                    \n",
              "3 2                    2                      2                     \n",
              "4 2                    1                      NA                    \n",
              "5 4                    NA                     1                     \n",
              "6 4                    NA                     NA                    \n",
              "  Número.de.individuos.emergidos Número.de.individuos.não.emergidos\n",
              "1 4                              1                                 \n",
              "2 0                              2                                 \n",
              "3 5                              0                                 \n",
              "4 5                              0                                 \n",
              "5 2                              0                                 \n",
              "6 0                              1                                 \n",
              "  Fase.de.interrupção.do.desenvolvimento..ovo ⋯ Número.de..F..não.emergidos\n",
              "1 NA                                          ⋯ NA                         \n",
              "2 NA                                          ⋯ NA                         \n",
              "3 NA                                          ⋯ NA                         \n",
              "4 NA                                          ⋯ NA                         \n",
              "5 NA                                          ⋯ NA                         \n",
              "6 1                                           ⋯ NA                         \n",
              "  Data.Da.emergência..F Data.da.emergencia..M Data.da.operculação.Última.visita\n",
              "1 1-08/07/2019          3- 10/07/2019         43614                            \n",
              "2 NA                    NA                    43616                            \n",
              "3 2-31/07/2019          2-31/07/2019          43592                            \n",
              "4 NA                    18/08/2019            43472                            \n",
              "5 1-08/08/2019          NA                    43634                            \n",
              "6 NA                    NA                    43635                            \n",
              "  Operculação Tempo.até.emergir.M1..horas. Tempo.até.emergir.F1..horas.\n",
              "1 0           1680                         1632                        \n",
              "2 0           NA                           NA                          \n",
              "3 1           624                          624                         \n",
              "4 0           1080                         NA                          \n",
              "5 0           NA                           1200                        \n",
              "6 1           NA                           NA                          \n",
              "  Tempo.até.emergir.F2..horas.\n",
              "1 NA                          \n",
              "2 NA                          \n",
              "3 NA                          \n",
              "4 NA                          \n",
              "5 NA                          \n",
              "6 NA                          \n",
              "  Cor.das.abelhas.emergidas                                       \n",
              "1 F-O8/07/2019 verde folha-azul cobalto                           \n",
              "2 NA                                                              \n",
              "3 F1-31/07/2019 branco-lilás; F2-31/07/2019 branco-azul claro;\\r\\n\n",
              "4 NA                                                              \n",
              "5 1F-08-08-2019 turquesa branco                                   \n",
              "6 NA                                                              \n",
              "  OBSERVAÇÕES                                                                                                 \n",
              "1 Desenvolvimento incompleto de individuo na segunda celúla (larva)                                           \n",
              "2 Dois invididuos adultos (M) não emergidos; Desenvolvimento incompleto de individuo na segunda celúla (larva)\n",
              "3 Emersão de um individuo não registrada                                                                      \n",
              "4 Emersão de 4 individuos não registrada                                                                      \n",
              "5 Emersão de um individuo não registrada                                                                      \n",
              "6 Construção de apenas uma celúla com alimento de cria/ Fundação do ninho a partir de um ninho de vespa       "
            ],
            "text/latex": "A data.frame: 6 × 25\n\\begin{tabular}{r|lllllllllllllllllllll}\n  & Ninho & Lugar & Data.da.entrada.do.ninho & Data.da.Saida.do.ninho & Mãe.do.ninho..número & Número.de..M.emergidos & Número.de..F.emergidos & Número.de.individuos.emergidos & Número.de.individuos.não.emergidos & Fase.de.interrupção.do.desenvolvimento..ovo & ⋯ & Número.de..F..não.emergidos & Data.Da.emergência..F & Data.da.emergencia..M & Data.da.operculação.Última.visita & Operculação & Tempo.até.emergir.M1..horas. & Tempo.até.emergir.F1..horas. & Tempo.até.emergir.F2..horas. & Cor.das.abelhas.emergidas & OBSERVAÇÕES\\\\\n  & <dbl> & <dbl> & <chr> & <chr> & <chr> & <chr> & <chr> & <chr> & <chr> & <chr> & ⋯ & <chr> & <chr> & <chr> & <chr> & <chr> & <chr> & <chr> & <chr> & <chr> & <chr>\\\\\n\\hline\n\t1 &  77 & 1 & 29/05/2019 & 6691189    & 1 & 3  & 1  & 4 & 1 & NA & ⋯ & NA & 1-08/07/2019 & 3- 10/07/2019 & 43614 & 0 & 1680 & 1632 & NA & F-O8/07/2019 verde folha-azul cobalto                            & Desenvolvimento incompleto de individuo na segunda celúla (larva)                                           \\\\\n\t2 &  56 & 1 & 43530      & 26/07/2019 & 1 & NA & NA & 0 & 2 & NA & ⋯ & NA & NA           & NA            & 43616 & 0 & NA   & NA   & NA & NA                                                               & Dois invididuos adultos (M) não emergidos; Desenvolvimento incompleto de individuo na segunda celúla (larva)\\\\\n\t3 & 147 & 1 & 14/07/2019 & 43807      & 2 & 2  & 2  & 5 & 0 & NA & ⋯ & NA & 2-31/07/2019 & 2-31/07/2019  & 43592 & 1 & 624  & 624  & NA & F1-31/07/2019 branco-lilás; F2-31/07/2019 branco-azul claro;\r\n & Emersão de um individuo não registrada                                                                      \\\\\n\t4 & 206 & 1 & 43503      & 16/09/2019 & 2 & 1  & NA & 5 & 0 & NA & ⋯ & NA & NA           & 18/08/2019    & 43472 & 0 & 1080 & NA   & NA & NA                                                               & Emersão de 4 individuos não registrada                                                                      \\\\\n\t5 &   5 & 1 & 43531      & 16/08/2019 & 4 & NA & 1  & 2 & 0 & NA & ⋯ & NA & 1-08/08/2019 & NA            & 43634 & 0 & NA   & 1200 & NA & 1F-08-08-2019 turquesa branco                                    & Emersão de um individuo não registrada                                                                      \\\\\n\t6 &  61 & 1 & 27/06/2019 & 25/09/2019 & 4 & NA & NA & 0 & 1 & 1  & ⋯ & NA & NA           & NA            & 43635 & 1 & NA   & NA   & NA & NA                                                               & Construção de apenas uma celúla com alimento de cria/ Fundação do ninho a partir de um ninho de vespa       \\\\\n\\end{tabular}\n",
            "text/markdown": "\nA data.frame: 6 × 25\n\n| <!--/--> | Ninho &lt;dbl&gt; | Lugar &lt;dbl&gt; | Data.da.entrada.do.ninho &lt;chr&gt; | Data.da.Saida.do.ninho &lt;chr&gt; | Mãe.do.ninho..número &lt;chr&gt; | Número.de..M.emergidos &lt;chr&gt; | Número.de..F.emergidos &lt;chr&gt; | Número.de.individuos.emergidos &lt;chr&gt; | Número.de.individuos.não.emergidos &lt;chr&gt; | Fase.de.interrupção.do.desenvolvimento..ovo &lt;chr&gt; | ⋯ ⋯ | Número.de..F..não.emergidos &lt;chr&gt; | Data.Da.emergência..F &lt;chr&gt; | Data.da.emergencia..M &lt;chr&gt; | Data.da.operculação.Última.visita &lt;chr&gt; | Operculação &lt;chr&gt; | Tempo.até.emergir.M1..horas. &lt;chr&gt; | Tempo.até.emergir.F1..horas. &lt;chr&gt; | Tempo.até.emergir.F2..horas. &lt;chr&gt; | Cor.das.abelhas.emergidas &lt;chr&gt; | OBSERVAÇÕES &lt;chr&gt; |\n|---|---|---|---|---|---|---|---|---|---|---|---|---|---|---|---|---|---|---|---|---|---|\n| 1 |  77 | 1 | 29/05/2019 | 6691189    | 1 | 3  | 1  | 4 | 1 | NA | ⋯ | NA | 1-08/07/2019 | 3- 10/07/2019 | 43614 | 0 | 1680 | 1632 | NA | F-O8/07/2019 verde folha-azul cobalto                            | Desenvolvimento incompleto de individuo na segunda celúla (larva)                                            |\n| 2 |  56 | 1 | 43530      | 26/07/2019 | 1 | NA | NA | 0 | 2 | NA | ⋯ | NA | NA           | NA            | 43616 | 0 | NA   | NA   | NA | NA                                                               | Dois invididuos adultos (M) não emergidos; Desenvolvimento incompleto de individuo na segunda celúla (larva) |\n| 3 | 147 | 1 | 14/07/2019 | 43807      | 2 | 2  | 2  | 5 | 0 | NA | ⋯ | NA | 2-31/07/2019 | 2-31/07/2019  | 43592 | 1 | 624  | 624  | NA | F1-31/07/2019 branco-lilás; F2-31/07/2019 branco-azul claro;\r\n | Emersão de um individuo não registrada                                                                       |\n| 4 | 206 | 1 | 43503      | 16/09/2019 | 2 | 1  | NA | 5 | 0 | NA | ⋯ | NA | NA           | 18/08/2019    | 43472 | 0 | 1080 | NA   | NA | NA                                                               | Emersão de 4 individuos não registrada                                                                       |\n| 5 |   5 | 1 | 43531      | 16/08/2019 | 4 | NA | 1  | 2 | 0 | NA | ⋯ | NA | 1-08/08/2019 | NA            | 43634 | 0 | NA   | 1200 | NA | 1F-08-08-2019 turquesa branco                                    | Emersão de um individuo não registrada                                                                       |\n| 6 |  61 | 1 | 27/06/2019 | 25/09/2019 | 4 | NA | NA | 0 | 1 | 1  | ⋯ | NA | NA           | NA            | 43635 | 1 | NA   | NA   | NA | NA                                                               | Construção de apenas uma celúla com alimento de cria/ Fundação do ninho a partir de um ninho de vespa        |\n\n",
            "text/html": [
              "<table class=\"dataframe\">\n",
              "<caption>A data.frame: 6 × 25</caption>\n",
              "<thead>\n",
              "\t<tr><th></th><th scope=col>Ninho</th><th scope=col>Lugar</th><th scope=col>Data.da.entrada.do.ninho</th><th scope=col>Data.da.Saida.do.ninho</th><th scope=col>Mãe.do.ninho..número</th><th scope=col>Número.de..M.emergidos</th><th scope=col>Número.de..F.emergidos</th><th scope=col>Número.de.individuos.emergidos</th><th scope=col>Número.de.individuos.não.emergidos</th><th scope=col>Fase.de.interrupção.do.desenvolvimento..ovo</th><th scope=col>⋯</th><th scope=col>Número.de..F..não.emergidos</th><th scope=col>Data.Da.emergência..F</th><th scope=col>Data.da.emergencia..M</th><th scope=col>Data.da.operculação.Última.visita</th><th scope=col>Operculação</th><th scope=col>Tempo.até.emergir.M1..horas.</th><th scope=col>Tempo.até.emergir.F1..horas.</th><th scope=col>Tempo.até.emergir.F2..horas.</th><th scope=col>Cor.das.abelhas.emergidas</th><th scope=col>OBSERVAÇÕES</th></tr>\n",
              "\t<tr><th></th><th scope=col>&lt;dbl&gt;</th><th scope=col>&lt;dbl&gt;</th><th scope=col>&lt;chr&gt;</th><th scope=col>&lt;chr&gt;</th><th scope=col>&lt;chr&gt;</th><th scope=col>&lt;chr&gt;</th><th scope=col>&lt;chr&gt;</th><th scope=col>&lt;chr&gt;</th><th scope=col>&lt;chr&gt;</th><th scope=col>&lt;chr&gt;</th><th scope=col>⋯</th><th scope=col>&lt;chr&gt;</th><th scope=col>&lt;chr&gt;</th><th scope=col>&lt;chr&gt;</th><th scope=col>&lt;chr&gt;</th><th scope=col>&lt;chr&gt;</th><th scope=col>&lt;chr&gt;</th><th scope=col>&lt;chr&gt;</th><th scope=col>&lt;chr&gt;</th><th scope=col>&lt;chr&gt;</th><th scope=col>&lt;chr&gt;</th></tr>\n",
              "</thead>\n",
              "<tbody>\n",
              "\t<tr><th scope=row>1</th><td> 77</td><td>1</td><td>29/05/2019</td><td>6691189   </td><td>1</td><td>3 </td><td>1 </td><td>4</td><td>1</td><td>NA</td><td>⋯</td><td>NA</td><td>1-08/07/2019</td><td>3- 10/07/2019</td><td>43614</td><td>0</td><td>1680</td><td>1632</td><td>NA</td><td>F-O8/07/2019 verde folha-azul cobalto                           </td><td>Desenvolvimento incompleto de individuo na segunda celúla (larva)                                           </td></tr>\n",
              "\t<tr><th scope=row>2</th><td> 56</td><td>1</td><td>43530     </td><td>26/07/2019</td><td>1</td><td>NA</td><td>NA</td><td>0</td><td>2</td><td>NA</td><td>⋯</td><td>NA</td><td>NA          </td><td>NA           </td><td>43616</td><td>0</td><td>NA  </td><td>NA  </td><td>NA</td><td>NA                                                              </td><td>Dois invididuos adultos (M) não emergidos; Desenvolvimento incompleto de individuo na segunda celúla (larva)</td></tr>\n",
              "\t<tr><th scope=row>3</th><td>147</td><td>1</td><td>14/07/2019</td><td>43807     </td><td>2</td><td>2 </td><td>2 </td><td>5</td><td>0</td><td>NA</td><td>⋯</td><td>NA</td><td>2-31/07/2019</td><td>2-31/07/2019 </td><td>43592</td><td>1</td><td>624 </td><td>624 </td><td>NA</td><td>F1-31/07/2019 branco-lilás; F2-31/07/2019 branco-azul claro;\r\n",
              "</td><td>Emersão de um individuo não registrada                                                                      </td></tr>\n",
              "\t<tr><th scope=row>4</th><td>206</td><td>1</td><td>43503     </td><td>16/09/2019</td><td>2</td><td>1 </td><td>NA</td><td>5</td><td>0</td><td>NA</td><td>⋯</td><td>NA</td><td>NA          </td><td>18/08/2019   </td><td>43472</td><td>0</td><td>1080</td><td>NA  </td><td>NA</td><td>NA                                                              </td><td>Emersão de 4 individuos não registrada                                                                      </td></tr>\n",
              "\t<tr><th scope=row>5</th><td>  5</td><td>1</td><td>43531     </td><td>16/08/2019</td><td>4</td><td>NA</td><td>1 </td><td>2</td><td>0</td><td>NA</td><td>⋯</td><td>NA</td><td>1-08/08/2019</td><td>NA           </td><td>43634</td><td>0</td><td>NA  </td><td>1200</td><td>NA</td><td>1F-08-08-2019 turquesa branco                                   </td><td>Emersão de um individuo não registrada                                                                      </td></tr>\n",
              "\t<tr><th scope=row>6</th><td> 61</td><td>1</td><td>27/06/2019</td><td>25/09/2019</td><td>4</td><td>NA</td><td>NA</td><td>0</td><td>1</td><td>1 </td><td>⋯</td><td>NA</td><td>NA          </td><td>NA           </td><td>43635</td><td>1</td><td>NA  </td><td>NA  </td><td>NA</td><td>NA                                                              </td><td>Construção de apenas uma celúla com alimento de cria/ Fundação do ninho a partir de um ninho de vespa       </td></tr>\n",
              "</tbody>\n",
              "</table>\n"
            ]
          },
          "metadata": {}
        }
      ]
    },
    {
      "cell_type": "markdown",
      "metadata": {
        "id": "olDhLid-qll6"
      },
      "source": [
        "A coluna **Ninho** representa o número de ninhos de abelhas construídos e a coluna de **Data de operculação/última visita**, fomos requisitados para elaborar um gráfico que mostra o número de ninhos por mês-ano, com base em **Data de operculação/última visita**, o gráfico tem que ser parecido com o seguinte formato:"
      ]
    },
    {
      "cell_type": "markdown",
      "metadata": {
        "id": "mor6tZXusOPQ"
      },
      "source": [
        "![](https://drive.google.com/uc?export=view&id=1V29bfAcr2YEZrCx3tQ1nzw-G4LKNFjI9)\n"
      ]
    },
    {
      "cell_type": "markdown",
      "metadata": {
        "id": "cTIevnsOu91w"
      },
      "source": [
        "Logo precisamos alterar os dados de tal maneira que as datas estejam no formato **Nome_Mês_inglês - Ano**, além disso as barras têm de estar ordenadas de acordo com o tempo, mas antes precisamos 'limpar' as variáveis a serem analisadas, o primeiro problema é que há valores faltantes, os valores faltantes nesse banco de dados estão codificados como o caractere 'NA' e o próprio NA, além disso, note que algumas datas tiveram uma correção errônea na hora que importamos para o R, por exemplo no nosso head as datas variam na ordem de 40mil, no excel elas estão normais, mas é possível recuperar as datas originais, um outro problema é que algumas datas possuem espaços vazios, além disso não estar visível no head, veja bem:"
      ]
    },
    {
      "cell_type": "code",
      "metadata": {
        "colab": {
          "base_uri": "https://localhost:8080/",
          "height": 34
        },
        "id": "7cB7Yd1ywcML",
        "outputId": "97186d44-2e38-4840-9caf-74ccd53f26e3"
      },
      "source": [
        "data$Data.da.operculação.Última.visita[15]"
      ],
      "execution_count": 19,
      "outputs": [
        {
          "output_type": "display_data",
          "data": {
            "text/plain": [
              "[1] \"05/07/ 2019\""
            ],
            "text/latex": "'05/07/ 2019'",
            "text/markdown": "'05/07/ 2019'",
            "text/html": [
              "'05/07/ 2019'"
            ]
          },
          "metadata": {}
        }
      ]
    },
    {
      "cell_type": "markdown",
      "metadata": {
        "id": "IPWLIWNww_N5"
      },
      "source": [
        "A seguir **x** serão as datas e **y** o número de ninhos, posteriormente, executamos o primeiro passo da nossa limpeza, removendo os valores vazios e os espaços em branco, além disso, note que não há quaisquer valores faltantes no número de ninhos quando não há valores faltantes nas datas. "
      ]
    },
    {
      "cell_type": "code",
      "metadata": {
        "colab": {
          "base_uri": "https://localhost:8080/",
          "height": 476
        },
        "id": "EJGGS72oyJJY",
        "outputId": "8abd3116-7054-41df-aecf-b3d0f452efc4"
      },
      "source": [
        "x=data$Data.da.operculação.Última.visita\n",
        "y=data$Ninho[x!='NA' & is.na(x)==FALSE]\n",
        "x=x[x!='NA' & is.na(x)==FALSE]\n",
        "length(y[is.na(y)==TRUE & y=='NA'])## y nao tem NA\n",
        "print(y)\n",
        "print(x)\n",
        "x=sub(\" \",\"\",x)##PARTE DA LIMPEZA"
      ],
      "execution_count": 20,
      "outputs": [
        {
          "output_type": "display_data",
          "data": {
            "text/plain": [
              "[1] 0"
            ],
            "text/latex": "0",
            "text/markdown": "0",
            "text/html": [
              "0"
            ]
          },
          "metadata": {}
        },
        {
          "output_type": "stream",
          "name": "stdout",
          "text": [
            " [1]  77  56 147 206   5  61  98  97 148  42 167 156  28  16 174 107  97   5 303\n",
            "[20] 265 163  68   5  96 145 363  73  54  13 348 246 202   5 145 371  23 155 108\n",
            "[39] 433  94 211 163 113 278 387 122 222 178 236 213 187 421 270 315 248 283 369\n",
            "[58] 457 256 255 128 120 149 337 301 426 236 402 206  74 149 248 430 226 394 167\n",
            "[77] 198 422  28  27  21 301 399 214 421 245 341 403 268 359 130 381 422   3  28\n",
            "[96] 214\n",
            " [1] \"43614\"       \"43616\"       \"43592\"       \"43472\"       \"43634\"      \n",
            " [6] \"43635\"       \"43622\"       \"43633\"       \"43664\"       \"43675\"      \n",
            "[11] \"43642\"       \"43684\"       \"30/08/2019\"  \"43777\"       \"05/07/ 2019\"\n",
            "[16] \"30/06/2019\"  \"14/07/2019\"  \"30/07/2019\"  \"43808\"       \"15/09/2019\" \n",
            "[21] \"23/10/2019\"  \"28/08/2019\"  \"30/08/2019\"  \"22/07/2019\"  \"17/09/2019\" \n",
            "[26] \"43474\"       \"30/10/2019\"  \"43596\"       \"30/10/2019\"  \"43627\"      \n",
            "[31] \"13/11/2019\"  \"43627\"       \"43536\"       \"27/11/2019\"  \"43780\"      \n",
            "[36] \"43720\"       \"16/12/2019\"  \"16/12/2019\"  \"21/11/2019\"  \"24/02/2020\" \n",
            "[41] \"20/04/2020\"  \"20/04/2020\"  \"43953\"       \"27/04/2020\"  \"22/05/2020\" \n",
            "[46] \"29/05/2020\"  \"43836\"       \"29/05/2020\"  \"43988\"       \"43988\"      \n",
            "[51] \"19/06/2020\"  \"19/06/2020\"  \"44049\"       \"44049\"       \"26/06/2020\" \n",
            "[56] \"21/07/2020\"  \"44081\"       \"44172\"       \"44081\"       \"13/07/2020\" \n",
            "[61] \"16/07/2020\"  \"21/07/2020\"  \"24/07/2020\"  \"23/07/2020\"  \"43898\"      \n",
            "[66] \"43898\"       \"43869\"       \"43959\"       \"43898\"       \"43990\"      \n",
            "[71] \"44173\"       \"26/06/2020\"  \"18/08/2020\"  \"18/08/2020\"  \"24/08/2020\" \n",
            "[76] \"23/08/2020\"  \"23/08/2020\"  \"24/08/2020\"  \"13/08/2020\"  \"43870\"      \n",
            "[81] \"43839\"       \"43839\"       \"44052\"       \"44066\"       \"44070\"      \n",
            "[86] \"24/08/2020\"  \"24/08/2020\"  \"16/09/2020\"  \"44113\"       \"21/10/2020\" \n",
            "[91] \"13/08/2020\"  \"19/08/2020\"  \"21/10/2020\"  \"43933\"       \"43902\"      \n",
            "[96] \"27/07/2020\" \n"
          ]
        }
      ]
    },
    {
      "cell_type": "markdown",
      "metadata": {
        "id": "HXofVWm7y4PX"
      },
      "source": [
        "Agora devemos converter as datas de ordem de 40mil, para algum tipo de data que faça sentido, e posteriormente executar uma conversão final nas datas para o formato **Nome_Mês_inglês - Ano**. Note que a estrutura do 'for' é interessante, primeiro percorremos de 1 até o tamanho de **x**, o mesmo de **y**, depois interpretamos uma data em **x** como um vetor de caracteres, com isso, para cada data sem o caractere '/', ou seja aquelas que foram formatadas incorretamente na hora de importar para o R, iremos usar um comando que pega uma data de origem do Excel para restaurar as datas originais, não sabemos o porque '1899-12-30', mas a conversão foi verificada posteriormente com o arquivo .xlsx bruto do excel, posteriormente, interpretamos as datas transformadas como um formato 'Date' do R e convertemos para o formato desejado, tal conversão já é direta nas datas que não tiveram o problema da formatação."
      ]
    },
    {
      "cell_type": "code",
      "metadata": {
        "colab": {
          "base_uri": "https://localhost:8080/"
        },
        "id": "kd4ii1DnzSo4",
        "outputId": "86c588f5-4277-4e68-b31a-7b9a770ca032"
      },
      "source": [
        "for(i in 1:length(x)){\n",
        "  if(strsplit(x[i],\"\")[[1]][3]!='/'){\n",
        "    x[i]=as.character(as.Date(as.numeric(x[i]),origin=\"1899-12-30\"))\n",
        "    aux=as.Date(x[i],\"%Y-%m-%d\")\n",
        "    x[i]=format(aux,\"%b - %Y\")\n",
        "  }else{\n",
        "    aux=as.Date(x[i],\"%d/%m/%Y\")\n",
        "    x[i]=format(aux,\"%b - %Y\")\n",
        "  }\n",
        "}\n",
        "print(x)"
      ],
      "execution_count": 21,
      "outputs": [
        {
          "output_type": "stream",
          "name": "stdout",
          "text": [
            " [1] \"May - 2019\" \"May - 2019\" \"May - 2019\" \"Jan - 2019\" \"Jun - 2019\"\n",
            " [6] \"Jun - 2019\" \"Jun - 2019\" \"Jun - 2019\" \"Jul - 2019\" \"Jul - 2019\"\n",
            "[11] \"Jun - 2019\" \"Aug - 2019\" \"Aug - 2019\" \"Nov - 2019\" \"Jul - 2019\"\n",
            "[16] \"Jun - 2019\" \"Jul - 2019\" \"Jul - 2019\" \"Dec - 2019\" \"Sep - 2019\"\n",
            "[21] \"Oct - 2019\" \"Aug - 2019\" \"Aug - 2019\" \"Jul - 2019\" \"Sep - 2019\"\n",
            "[26] \"Jan - 2019\" \"Oct - 2019\" \"May - 2019\" \"Oct - 2019\" \"Jun - 2019\"\n",
            "[31] \"Nov - 2019\" \"Jun - 2019\" \"Mar - 2019\" \"Nov - 2019\" \"Nov - 2019\"\n",
            "[36] \"Sep - 2019\" \"Dec - 2019\" \"Dec - 2019\" \"Nov - 2019\" \"Feb - 2020\"\n",
            "[41] \"Apr - 2020\" \"Apr - 2020\" \"May - 2020\" \"Apr - 2020\" \"May - 2020\"\n",
            "[46] \"May - 2020\" \"Jan - 2020\" \"May - 2020\" \"Jun - 2020\" \"Jun - 2020\"\n",
            "[51] \"Jun - 2020\" \"Jun - 2020\" \"Aug - 2020\" \"Aug - 2020\" \"Jun - 2020\"\n",
            "[56] \"Jul - 2020\" \"Sep - 2020\" \"Dec - 2020\" \"Sep - 2020\" \"Jul - 2020\"\n",
            "[61] \"Jul - 2020\" \"Jul - 2020\" \"Jul - 2020\" \"Jul - 2020\" \"Mar - 2020\"\n",
            "[66] \"Mar - 2020\" \"Feb - 2020\" \"May - 2020\" \"Mar - 2020\" \"Jun - 2020\"\n",
            "[71] \"Dec - 2020\" \"Jun - 2020\" \"Aug - 2020\" \"Aug - 2020\" \"Aug - 2020\"\n",
            "[76] \"Aug - 2020\" \"Aug - 2020\" \"Aug - 2020\" \"Aug - 2020\" \"Feb - 2020\"\n",
            "[81] \"Jan - 2020\" \"Jan - 2020\" \"Aug - 2020\" \"Aug - 2020\" \"Aug - 2020\"\n",
            "[86] \"Aug - 2020\" \"Aug - 2020\" \"Sep - 2020\" \"Oct - 2020\" \"Oct - 2020\"\n",
            "[91] \"Aug - 2020\" \"Aug - 2020\" \"Oct - 2020\" \"Apr - 2020\" \"Mar - 2020\"\n",
            "[96] \"Jul - 2020\"\n"
          ]
        }
      ]
    },
    {
      "cell_type": "markdown",
      "metadata": {
        "id": "Da-9tL5_1wVX"
      },
      "source": [
        "Como queremos o número de ninhos em cada mês de cada ano, precisamos tornar as datas um vetor sem elementos repetidos, e posteriormente calcular o total do número de ninhos em cada data no formato **Nome_Mês_inglês - Ano** e posteriormente formatar o número de ninhos para uma variável númerica."
      ]
    },
    {
      "cell_type": "code",
      "metadata": {
        "colab": {
          "base_uri": "https://localhost:8080/",
          "height": 283
        },
        "id": "9I6a_lO-2YoN",
        "outputId": "3137e171-3827-43ee-892c-76115c6eab13"
      },
      "source": [
        "aux=order(unique(x))\n",
        "y=tapply(y,x,sum)\n",
        "data=data.frame(cbind(y,x=names(y)))\n",
        "rownames(data)=1:length(y)\n",
        "data$y=as.numeric(data$y)\n",
        "head(data)"
      ],
      "execution_count": 22,
      "outputs": [
        {
          "output_type": "display_data",
          "data": {
            "text/plain": [
              "  y    x         \n",
              "1  655 Apr - 2020\n",
              "2  257 Aug - 2019\n",
              "3 4581 Aug - 2020\n",
              "4  566 Dec - 2019\n",
              "5  606 Dec - 2020\n",
              "6  357 Feb - 2020"
            ],
            "text/latex": "A data.frame: 6 × 2\n\\begin{tabular}{r|ll}\n  & y & x\\\\\n  & <dbl> & <chr>\\\\\n\\hline\n\t1 &  655 & Apr - 2020\\\\\n\t2 &  257 & Aug - 2019\\\\\n\t3 & 4581 & Aug - 2020\\\\\n\t4 &  566 & Dec - 2019\\\\\n\t5 &  606 & Dec - 2020\\\\\n\t6 &  357 & Feb - 2020\\\\\n\\end{tabular}\n",
            "text/markdown": "\nA data.frame: 6 × 2\n\n| <!--/--> | y &lt;dbl&gt; | x &lt;chr&gt; |\n|---|---|---|\n| 1 |  655 | Apr - 2020 |\n| 2 |  257 | Aug - 2019 |\n| 3 | 4581 | Aug - 2020 |\n| 4 |  566 | Dec - 2019 |\n| 5 |  606 | Dec - 2020 |\n| 6 |  357 | Feb - 2020 |\n\n",
            "text/html": [
              "<table class=\"dataframe\">\n",
              "<caption>A data.frame: 6 × 2</caption>\n",
              "<thead>\n",
              "\t<tr><th></th><th scope=col>y</th><th scope=col>x</th></tr>\n",
              "\t<tr><th></th><th scope=col>&lt;dbl&gt;</th><th scope=col>&lt;chr&gt;</th></tr>\n",
              "</thead>\n",
              "<tbody>\n",
              "\t<tr><th scope=row>1</th><td> 655</td><td>Apr - 2020</td></tr>\n",
              "\t<tr><th scope=row>2</th><td> 257</td><td>Aug - 2019</td></tr>\n",
              "\t<tr><th scope=row>3</th><td>4581</td><td>Aug - 2020</td></tr>\n",
              "\t<tr><th scope=row>4</th><td> 566</td><td>Dec - 2019</td></tr>\n",
              "\t<tr><th scope=row>5</th><td> 606</td><td>Dec - 2020</td></tr>\n",
              "\t<tr><th scope=row>6</th><td> 357</td><td>Feb - 2020</td></tr>\n",
              "</tbody>\n",
              "</table>\n"
            ]
          },
          "metadata": {}
        }
      ]
    },
    {
      "cell_type": "markdown",
      "metadata": {
        "id": "Mf5gMhSr2deW"
      },
      "source": [
        "Agora nos resta ordenar as datas para concluir a 'limpeza':"
      ]
    },
    {
      "cell_type": "code",
      "metadata": {
        "colab": {
          "base_uri": "https://localhost:8080/"
        },
        "id": "wMzfM46Y2iXs",
        "outputId": "99fbaede-38f9-4270-a574-8ddfd5af95b3"
      },
      "source": [
        "data=data %>% arrange(mdy(data$x))\n",
        "data$x=factor(data$x,levels=data$x)\n",
        "print(data)"
      ],
      "execution_count": 24,
      "outputs": [
        {
          "output_type": "stream",
          "name": "stdout",
          "text": [
            "      y          x\n",
            "1   569 Jan - 2019\n",
            "2     5 Mar - 2019\n",
            "3   334 May - 2019\n",
            "4  1085 Jun - 2019\n",
            "5   562 Jul - 2019\n",
            "6   257 Aug - 2019\n",
            "7   433 Sep - 2019\n",
            "8   249 Oct - 2019\n",
            "9  1211 Nov - 2019\n",
            "10  566 Dec - 2019\n",
            "11  544 Jan - 2020\n",
            "12  357 Feb - 2020\n",
            "13  961 Mar - 2020\n",
            "14  655 Apr - 2020\n",
            "15 1202 May - 2020\n",
            "16 1627 Jun - 2020\n",
            "17 1486 Jul - 2020\n",
            "18 4581 Aug - 2020\n",
            "19 1028 Sep - 2020\n",
            "20 1049 Oct - 2020\n",
            "21  606 Dec - 2020\n"
          ]
        }
      ]
    },
    {
      "cell_type": "markdown",
      "metadata": {
        "id": "PNx45RhF3zvM"
      },
      "source": [
        "A seguir temos o comando para elaborar o gráfico desejado, devemos usar \"identity\" para o comando rodar e '*labs(x=\"Mês\",y=\"Número de ninhos\")+theme (axis.text.x = element_text(angle = 90, vjust = 0.5, hjust=1))*' para deixar as datas na vertical, como desejado."
      ]
    },
    {
      "cell_type": "code",
      "metadata": {
        "colab": {
          "base_uri": "https://localhost:8080/",
          "height": 437
        },
        "id": "xTmVqC2w4L_m",
        "outputId": "3bcc02eb-5733-4974-b36d-16d149de103e"
      },
      "source": [
        "ggplot(aes(x=x,y=y),data=data)+geom_bar(stat=\"identity\")+labs(x=\"Mês\",y=\"Número de ninhos\")+theme (axis.text.x = element_text(angle = 90, vjust = 0.5, hjust=1))+labs(x=\"Mês\",title=\"Ninhos x Mês\") "
      ],
      "execution_count": 25,
      "outputs": [
        {
          "output_type": "display_data",
          "data": {
            "image/png": "[encoded data removed]",
            "text/plain": [
              "plot without title"
            ]
          },
          "metadata": {
            "image/png": {
              "width": 420,
              "height": 420
            }
          }
        }
      ]
    }
  ]
}